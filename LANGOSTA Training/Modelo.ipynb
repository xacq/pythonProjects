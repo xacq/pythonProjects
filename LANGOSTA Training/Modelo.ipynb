{
 "cells": [
  {
   "cell_type": "code",
   "execution_count": 1,
   "id": "f202707d",
   "metadata": {},
   "outputs": [],
   "source": [
    "#IMPORTAMOS LAS LIBRERIAS BASADAS EN TENSORFLOW Y KERAS\n",
    "import sys\n",
    "import os\n",
    "from tensorflow.keras.preprocessing.image import ImageDataGenerator\n",
    "from tensorflow.keras import optimizers\n",
    "from tensorflow.keras.models import Sequential\n",
    "from tensorflow.keras.layers import Dropout, Flatten, Dense, Activation\n",
    "from tensorflow.keras.layers import  Convolution2D, MaxPooling2D\n",
    "from tensorflow.keras import backend as K\n",
    "\n",
    "#LIMPIAMOS SESION DE KERAS PARA EMPEZAR DESDE 0 EN MEMORIA\n",
    "K.clear_session()\n",
    "\n",
    "#GENERAMOS 2 VARIABLES CON CADA UNA DE LAS CARPETAS TANTO DE ENTRENAMIENTO COMO DE TEST CON FOTOGRAFIAS\n",
    "data_entrenamiento = './Dataset/train'\n",
    "data_validacion = './Dataset/test'\n",
    "\n",
    "#DECLARACION DE VARIABLES CON VALORES QUE PARAMETRIZARAN EL DESEMPEÑO DEL ENTRENAMIENTO DEL MODELO DE CLASIFICACION DE FOTOS\n",
    "epocas=150 #NUMERO DE EPOCHS O ITERACCIONES SOBRE TODO EL SET DE DATOS PARA EL TRAINING\n",
    "longitud, altura = 100,100 #REDIMENSIONAMIENTO DE FOTOGRAFIAS\n",
    "batch_size = 16 # NUMERO DE FOTOGRAFIAS A GESTIONAR EN CADA UNO DE LOS PASOS DE PROCESO\n",
    "pasos = 200 #NUMERO DE STEPS PARA PROCESAR LA INFORMACION EN CADA UNA DE LAS EPOCAS\n",
    "validation_steps = 350 #NUMERO DE STEPS PARA VALIDACION CON LOS DATOS DE TEST\n",
    "filtrosConv1 = 32 #AL HACER UNA CONVOLACION LA IMAGEN TENDRA PROFUNDIDAD DE 32\n",
    "filtrosConv2 = 64 #AL HACER OTRA CONVOLACION LA IMAGEN TENDRA PROFUNDIDAD DE 64\n",
    "tamano_filtro1 = (3, 3) #TAMAÑO DE FILTROS EN LA PRIMERA CONVULACION\n",
    "tamano_filtro2 = (2, 2) #TAMAÑO DE FILTROS EN LA SEGUNDACONVULACION\n",
    "tamano_pool = (2, 2) #TAMAÑO DEL FILTRO A USAR EN EL MAXPOOLING\n",
    "clases = 14 #CANTIDAD DE CLASES DE FOTOGRAFIAS A PROCESAR\n",
    "lr = 0.0001 #LEARNING RATE PARA EL PROCESO DE ENTRENAMIENTO EN AJUSTES A HACER PARA ACERCARSE A UNA SOLUCION OPTIMA"
   ]
  },
  {
   "cell_type": "code",
   "execution_count": 2,
   "id": "5c729a58",
   "metadata": {},
   "outputs": [
    {
     "name": "stdout",
     "output_type": "stream",
     "text": [
      "Found 117 images belonging to 4 classes.\n",
      "Found 1 images belonging to 4 classes.\n"
     ]
    }
   ],
   "source": [
    "#FUNCION IMAGEDATAGENERATOR QUE PROPORCIONARA MODIFICACION A LAS FOTOGRAFIAS PARA OPTIMIZAR EL PROCESO DE ENTRENAMIENTO\n",
    "entrenamiento_datagen = ImageDataGenerator(\n",
    "    rescale=1. / 255,\n",
    "    shear_range=0.2,\n",
    "    zoom_range=0.2,\n",
    "    horizontal_flip=True)\n",
    "\n",
    "test_datagen = ImageDataGenerator(rescale=1. / 255)\n",
    "#FUNCION PARA CONFIGURACION DEL PROCESO DE RECUPERACION DE INFORMACION DE FOTOS PARA ENTRENAMIENTO\n",
    "entrenamiento_generador = entrenamiento_datagen.flow_from_directory(\n",
    "    data_entrenamiento,\n",
    "    target_size=(altura, longitud),\n",
    "    batch_size=batch_size,\n",
    "    class_mode='categorical')\n",
    "#FUNCION PARA CONFIGURACION DEL PROCESO DE RECUPERACION DE INFORMACION DE FOTOS PARA TEST\n",
    "validacion_generador = test_datagen.flow_from_directory(\n",
    "    data_validacion,\n",
    "    target_size=(altura, longitud),\n",
    "    batch_size=batch_size,\n",
    "    class_mode='categorical')"
   ]
  },
  {
   "cell_type": "code",
   "execution_count": 3,
   "id": "1dc28601",
   "metadata": {},
   "outputs": [],
   "source": [
    "#FUNCION PARA EMPEZAR EL MODELO Y SU CONSTRUCCION\n",
    "cnn = Sequential()\n",
    "#PRIMERA CAPA\n",
    "cnn.add(Convolution2D(filtrosConv1, tamano_filtro1, padding =\"same\", input_shape=(longitud, altura, 3), activation='relu'))\n",
    "cnn.add(MaxPooling2D(pool_size=tamano_pool))\n",
    "#SEGUNDA CAPA\n",
    "cnn.add(Convolution2D(filtrosConv2, tamano_filtro2, padding =\"same\"))\n",
    "cnn.add(MaxPooling2D(pool_size=tamano_pool))\n",
    "#RECONFIGURACION DE LA INFORMACION EN DATOS RECONOCIBLES POR EL MODELO\n",
    "cnn.add(Flatten())\n",
    "cnn.add(Dense(256, activation='relu'))\n",
    "cnn.add(Dropout(0.5))\n",
    "cnn.add(Dense(clases, activation='softmax'))\n",
    "#COMPILACION DE LA INFORMACION DENTRO DEL MODELO PARA SU ENTRENAMIENTO \n",
    "cnn.compile(loss='categorical_crossentropy',\n",
    "            optimizer=optimizers.Adam(learning_rate=lr),\n",
    "            metrics=['accuracy'])"
   ]
  },
  {
   "cell_type": "code",
   "execution_count": null,
   "id": "0368d968",
   "metadata": {},
   "outputs": [],
   "source": [
    "#ENTRENAMIENTO DEL MODELO SEGUN LOS DATOS INGRESADOS COMO PARAMETROS\n",
    "cnn.fit(\n",
    "    entrenamiento_generador,\n",
    "    steps_per_epoch=pasos,\n",
    "    epochs=epocas,\n",
    "    validation_data=validacion_generador,\n",
    "    validation_steps=validation_steps)"
   ]
  },
  {
   "cell_type": "code",
   "execution_count": 5,
   "id": "406e2057",
   "metadata": {},
   "outputs": [],
   "source": [
    "#CREACION Y ALMACENAMIENTO DEL RESULTANTE DEL ENTRENAMIENTO PARA RECONOCIMIENTO DE FOTOGRAFIAS\n",
    "target_dir = './'\n",
    "if not os.path.exists(target_dir):\n",
    "  os.mkdir(target_dir)\n",
    "cnn.save('./modelo/modelo.h5')\n"
   ]
  },
  {
   "cell_type": "code",
   "execution_count": null,
   "id": "d4380693",
   "metadata": {},
   "outputs": [],
   "source": []
  }
 ],
 "metadata": {
  "kernelspec": {
   "display_name": "Python 3 (ipykernel)",
   "language": "python",
   "name": "python3"
  },
  "language_info": {
   "codemirror_mode": {
    "name": "ipython",
    "version": 3
   },
   "file_extension": ".py",
   "mimetype": "text/x-python",
   "name": "python",
   "nbconvert_exporter": "python",
   "pygments_lexer": "ipython3",
   "version": "3.10.7"
  }
 },
 "nbformat": 4,
 "nbformat_minor": 5
}
