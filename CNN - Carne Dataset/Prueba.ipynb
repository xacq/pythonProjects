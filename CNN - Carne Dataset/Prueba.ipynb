{
 "cells": [
  {
   "cell_type": "code",
   "execution_count": 1,
   "id": "cd1bc7d5",
   "metadata": {},
   "outputs": [],
   "source": [
    "#Declaracion de librerias\n",
    "import numpy as np\n",
    "from tensorflow.keras.preprocessing.image import load_img, img_to_array\n",
    "from tensorflow.keras.models import load_model"
   ]
  },
  {
   "cell_type": "code",
   "execution_count": 3,
   "id": "6d297094",
   "metadata": {},
   "outputs": [],
   "source": [
    "#Cargado de los archivos que representan al modelo entrenado\n",
    "modelo = './modelo/model.h5'\n",
    "pesos = './modelo/weights.h5'\n",
    "red_neuronal = load_model(modelo) \n",
    "red_neuronal.load_weights(pesos)"
   ]
  },
  {
   "cell_type": "code",
   "execution_count": 4,
   "id": "6ba60aa4",
   "metadata": {},
   "outputs": [],
   "source": [
    "#Declaracion de funcion que verifica la prediccion del modelo\n",
    "def prediccion(archivo):\n",
    "  imagen_cargada = load_img(archivo, target_size=(100, 100))\n",
    "  imagen_procesada = img_to_array(imagen_cargada)\n",
    "  imagen = np.expand_dims(imagen_procesada, axis=0)\n",
    "  array = red_neuronal.predict(imagen)\n",
    "  return print(\"Pertenece al tipo de carne \", np.argmax(array[0])+1)"
   ]
  },
  {
   "cell_type": "code",
   "execution_count": 11,
   "id": "faa04634",
   "metadata": {},
   "outputs": [
    {
     "name": "stdout",
     "output_type": "stream",
     "text": [
      "1/1 [==============================] - 0s 62ms/step\n",
      "Pertenece al tipo de carne  7\n"
     ]
    }
   ],
   "source": [
    "#Ejecucion de la funcion con elnombre de un archivo del dataset de test\n",
    "prediccion(\"./CarneDataset/test/CLASS_07/17-CAPTURE_20220420_173649_824.png\")"
   ]
  },
  {
   "cell_type": "code",
   "execution_count": null,
   "id": "03f88102",
   "metadata": {},
   "outputs": [],
   "source": []
  }
 ],
 "metadata": {
  "kernelspec": {
   "display_name": "Python 3 (ipykernel)",
   "language": "python",
   "name": "python3"
  },
  "language_info": {
   "codemirror_mode": {
    "name": "ipython",
    "version": 3
   },
   "file_extension": ".py",
   "mimetype": "text/x-python",
   "name": "python",
   "nbconvert_exporter": "python",
   "pygments_lexer": "ipython3",
   "version": "3.10.7"
  }
 },
 "nbformat": 4,
 "nbformat_minor": 5
}
