{
 "cells": [
  {
   "cell_type": "code",
   "execution_count": 7,
   "id": "f202707d",
   "metadata": {},
   "outputs": [],
   "source": [
    "#Declaracion de librerias para el entrenamiento de la red neuronal\n",
    "import sys\n",
    "import os\n",
    "from tensorflow.keras.preprocessing.image import ImageDataGenerator\n",
    "from tensorflow.keras.layers import Dropout, Flatten, Dense, Activation, Convolution2D, MaxPooling2D\n",
    "from tensorflow.keras import backend as K\n",
    "from tensorflow.keras import optimizers\n",
    "from tensorflow.keras.models import Sequential"
   ]
  },
  {
   "cell_type": "code",
   "execution_count": null,
   "id": "6460418d",
   "metadata": {},
   "outputs": [],
   "source": [
    "#Declaracion de variables para configuracion de la red neuronal previo al entrenamiento\n",
    "epochs=10 \n",
    "batch_size = 10\n",
    "steps = 120 \n",
    "validation_steps = 80 \n",
    "traindata = './CarneDataset/train'\n",
    "testdata = './CarneDataset/test'"
   ]
  },
  {
   "cell_type": "code",
   "execution_count": 4,
   "id": "5c729a58",
   "metadata": {
    "scrolled": true
   },
   "outputs": [
    {
     "name": "stdout",
     "output_type": "stream",
     "text": [
      "Found 1634 images belonging to 8 classes.\n"
     ]
    }
   ],
   "source": [
    "#Manipulacion de imagenes para mejorar el entrenamiento de la red neuronal sobre el dataset de train\n",
    "datosparaentrenamiento= ImageDataGenerator(\n",
    "    rotation_range=20,\n",
    "    width_shift_range=0.1,\n",
    "    height_shift_range=0.1,\n",
    "    rescale=1. / 255,\n",
    "    shear_range=0.2,\n",
    "    zoom_range=0.2,\n",
    "    horizontal_flip=True) \n",
    "#Generacion de variable de train para el entrenamiento de la neurona\n",
    "entrenar = datosparaentrenamiento.flow_from_directory(\n",
    "    traindata,\n",
    "    target_size=(100, 100),\n",
    "    batch_size=batch_size,\n",
    "    class_mode='categorical')"
   ]
  },
  {
   "cell_type": "code",
   "execution_count": 5,
   "id": "fd8d932e",
   "metadata": {},
   "outputs": [
    {
     "name": "stdout",
     "output_type": "stream",
     "text": [
      "Found 810 images belonging to 8 classes.\n"
     ]
    }
   ],
   "source": [
    "#Manipulacion de imagenes para mejorar el entrenamiento de la red neuronal sobre el dataset de test\n",
    "datosparatest = ImageDataGenerator(\n",
    "    rotation_range=20,\n",
    "    rescale=1. / 255) \n",
    "#Generacion de variable de test para el entrenamiento de la neurona\n",
    "validar = datosparatest.flow_from_directory(\n",
    "    testdata,\n",
    "    target_size=(100, 100),\n",
    "    batch_size=batch_size,\n",
    "    class_mode='categorical')"
   ]
  },
  {
   "cell_type": "code",
   "execution_count": 6,
   "id": "1dc28601",
   "metadata": {},
   "outputs": [],
   "source": [
    "#Creacion de la red nuronal y aumento de las capas y la configuracion para el entrenamiento\n",
    "red_neuronal = Sequential()\n",
    "red_neuronal.add(Convolution2D(32, (3, 3), padding =\"same\", input_shape=(100, 100, 3), activation='relu'))\n",
    "red_neuronal.add(MaxPooling2D(pool_size=(2, 2)))\n",
    "red_neuronal.add(Convolution2D(64, (2, 2), padding =\"same\", activation='relu'))\n",
    "red_neuronal.add(MaxPooling2D(pool_size=(2, 2)))\n",
    "red_neuronal.add(Convolution2D(128, (3, 3), padding=\"same\", activation='relu'))\n",
    "red_neuronal.add(MaxPooling2D(pool_size=(2, 2)))\n",
    "red_neuronal.add(Flatten())\n",
    "red_neuronal.add(Dense(256, activation='relu'))\n",
    "red_neuronal.add(Dropout(0.5))\n",
    "red_neuronal.add(Dense(8, activation='softmax'))\n",
    "red_neuronal.compile(loss='categorical_crossentropy',optimizer=optimizers.Adam(learning_rate=0.0009),metrics=['accuracy'])"
   ]
  },
  {
   "cell_type": "code",
   "execution_count": 5,
   "id": "34bb2b41",
   "metadata": {
    "scrolled": false
   },
   "outputs": [
    {
     "name": "stdout",
     "output_type": "stream",
     "text": [
      "Epoch 1/10\n",
      "120/120 [==============================] - 72s 590ms/step - loss: 1.3947 - accuracy: 0.5675 - val_loss: 1.0914 - val_accuracy: 0.6187\n",
      "Epoch 2/10\n",
      "120/120 [==============================] - 62s 519ms/step - loss: 1.0435 - accuracy: 0.6566 - val_loss: 0.8472 - val_accuracy: 0.7387\n",
      "Epoch 3/10\n",
      "120/120 [==============================] - 68s 569ms/step - loss: 0.9079 - accuracy: 0.6809 - val_loss: 0.7017 - val_accuracy: 0.7025\n",
      "Epoch 4/10\n",
      "120/120 [==============================] - 66s 550ms/step - loss: 0.7069 - accuracy: 0.7580 - val_loss: 0.6034 - val_accuracy: 0.7750\n",
      "Epoch 5/10\n",
      "120/120 [==============================] - 64s 531ms/step - loss: 0.6365 - accuracy: 0.7781 - val_loss: 0.4486 - val_accuracy: 0.8500\n",
      "Epoch 6/10\n",
      "120/120 [==============================] - 86s 715ms/step - loss: 0.5625 - accuracy: 0.7814 - val_loss: 0.4815 - val_accuracy: 0.8300\n",
      "Epoch 7/10\n",
      "120/120 [==============================] - 72s 597ms/step - loss: 0.5156 - accuracy: 0.8090 - val_loss: 0.4093 - val_accuracy: 0.8637\n",
      "Epoch 8/10\n",
      "120/120 [==============================] - 72s 602ms/step - loss: 0.4932 - accuracy: 0.8191 - val_loss: 0.4024 - val_accuracy: 0.8800\n",
      "Epoch 9/10\n",
      "120/120 [==============================] - 73s 604ms/step - loss: 0.4621 - accuracy: 0.8166 - val_loss: 0.4287 - val_accuracy: 0.8413\n",
      "Epoch 10/10\n",
      "120/120 [==============================] - 94s 782ms/step - loss: 0.4137 - accuracy: 0.8400 - val_loss: 0.3303 - val_accuracy: 0.8975\n"
     ]
    }
   ],
   "source": [
    "#Entrenamiento de la red nuronal con los valores preinicializados\n",
    "historia = red_neuronal.fit(\n",
    "    entrenar,\n",
    "    steps_per_epoch=steps,\n",
    "    epochs=epochs,\n",
    "    validation_data=validar,\n",
    "    validation_steps=validation_steps\n",
    ")"
   ]
  },
  {
   "cell_type": "code",
   "execution_count": 6,
   "id": "93f181e3",
   "metadata": {},
   "outputs": [
    {
     "name": "stdout",
     "output_type": "stream",
     "text": [
      "Efectividad: 0.8400\n",
      "Perdida: 0.4137\n"
     ]
    }
   ],
   "source": [
    "#Visualizacion de los valores de eficiencia y perdida generados a partir del entrenamiento\n",
    "efectivo = historia.history['accuracy']\n",
    "perdida= historia.history['loss']\n",
    "print(f\"Efectividad: {efectivo[-1]:.4f}\")\n",
    "print(f\"Perdida: {perdida[-1]:.4f}\")"
   ]
  },
  {
   "cell_type": "code",
   "execution_count": 7,
   "id": "406e2057",
   "metadata": {},
   "outputs": [],
   "source": [
    "#Guardado de los datos generados en el entrenamiento en dos archivos\n",
    "directorio = './modelo/'\n",
    "if not os.path.exists(directorio):\n",
    "  os.mkdir(directorio)\n",
    "red_neuronal.save('./modelo/model.h5')\n",
    "red_neuronal.save_weights('./modelo/weights.h5')"
   ]
  },
  {
   "cell_type": "code",
   "execution_count": null,
   "id": "450b9066",
   "metadata": {},
   "outputs": [],
   "source": []
  }
 ],
 "metadata": {
  "kernelspec": {
   "display_name": "Python 3 (ipykernel)",
   "language": "python",
   "name": "python3"
  },
  "language_info": {
   "codemirror_mode": {
    "name": "ipython",
    "version": 3
   },
   "file_extension": ".py",
   "mimetype": "text/x-python",
   "name": "python",
   "nbconvert_exporter": "python",
   "pygments_lexer": "ipython3",
   "version": "3.10.7"
  }
 },
 "nbformat": 4,
 "nbformat_minor": 5
}
