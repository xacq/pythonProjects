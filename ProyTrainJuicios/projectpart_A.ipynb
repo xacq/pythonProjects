{
 "cells": [
  {
   "cell_type": "code",
   "execution_count": 1,
   "id": "b16e0d1e-76d3-4668-8b14-1513951878e9",
   "metadata": {},
   "outputs": [
    {
     "data": {
      "text/html": [
       "<div>\n",
       "<style scoped>\n",
       "    .dataframe tbody tr th:only-of-type {\n",
       "        vertical-align: middle;\n",
       "    }\n",
       "\n",
       "    .dataframe tbody tr th {\n",
       "        vertical-align: top;\n",
       "    }\n",
       "\n",
       "    .dataframe thead th {\n",
       "        text-align: right;\n",
       "    }\n",
       "</style>\n",
       "<table border=\"1\" class=\"dataframe\">\n",
       "  <thead>\n",
       "    <tr style=\"text-align: right;\">\n",
       "      <th></th>\n",
       "      <th>document</th>\n",
       "    </tr>\n",
       "  </thead>\n",
       "  <tbody>\n",
       "    <tr>\n",
       "      <th>0</th>\n",
       "      <td>REPÚBLICA DEL ECUADOR\\nwww.funcionjudicial.gob...</td>\n",
       "    </tr>\n",
       "    <tr>\n",
       "      <th>1</th>\n",
       "      <td>REPÚBLICA DEL ECUADOR\\nwww.funcionjudicial.gob...</td>\n",
       "    </tr>\n",
       "    <tr>\n",
       "      <th>2</th>\n",
       "      <td>REPÚBLICA DEL ECUADOR\\nwww.funcionjudicial.gob...</td>\n",
       "    </tr>\n",
       "    <tr>\n",
       "      <th>3</th>\n",
       "      <td>REPÚBLICA DEL ECUADOR\\nwww.funcionjudicial.gob...</td>\n",
       "    </tr>\n",
       "    <tr>\n",
       "      <th>4</th>\n",
       "      <td>REPÚBLICA DEL ECUADOR\\nwww.funcionjudicial.gob...</td>\n",
       "    </tr>\n",
       "    <tr>\n",
       "      <th>5</th>\n",
       "      <td>REPÚBLICA DEL ECUADOR\\nwww.funcionjudicial.gob...</td>\n",
       "    </tr>\n",
       "    <tr>\n",
       "      <th>6</th>\n",
       "      <td>REPÚBLICA DEL ECUADOR\\nwww.funcionjudicial.gob...</td>\n",
       "    </tr>\n",
       "    <tr>\n",
       "      <th>7</th>\n",
       "      <td>REPÚBLICA DEL ECUADOR\\nwww.funcionjudicial.gob...</td>\n",
       "    </tr>\n",
       "    <tr>\n",
       "      <th>8</th>\n",
       "      <td>REPÚBLICA DEL ECUADOR\\nwww.funcionjudicial.gob...</td>\n",
       "    </tr>\n",
       "    <tr>\n",
       "      <th>9</th>\n",
       "      <td>REPÚBLICA DEL ECUADOR\\nwww.funcionjudicial.gob...</td>\n",
       "    </tr>\n",
       "    <tr>\n",
       "      <th>10</th>\n",
       "      <td>REPÚBLICA DEL ECUADOR\\nwww.funcionjudicial.gob...</td>\n",
       "    </tr>\n",
       "    <tr>\n",
       "      <th>11</th>\n",
       "      <td>REPÚBLICA DEL ECUADOR\\nwww.funcionjudicial.gob...</td>\n",
       "    </tr>\n",
       "    <tr>\n",
       "      <th>12</th>\n",
       "      <td>REPÚBLICA DEL ECUADOR\\nwww.funcionjudicial.gob...</td>\n",
       "    </tr>\n",
       "    <tr>\n",
       "      <th>13</th>\n",
       "      <td>REPÚBLICA DEL ECUADOR\\nwww.funcionjudicial.gob...</td>\n",
       "    </tr>\n",
       "    <tr>\n",
       "      <th>14</th>\n",
       "      <td>REPÚBLICA DEL ECUADOR\\nwww.funcionjudicial.gob...</td>\n",
       "    </tr>\n",
       "    <tr>\n",
       "      <th>15</th>\n",
       "      <td>REPÚBLICA DEL ECUADOR\\nwww.funcionjudicial.gob...</td>\n",
       "    </tr>\n",
       "    <tr>\n",
       "      <th>16</th>\n",
       "      <td>REPÚBLICA DEL ECUADOR\\nwww.funcionjudicial.gob...</td>\n",
       "    </tr>\n",
       "    <tr>\n",
       "      <th>17</th>\n",
       "      <td>REPÚBLICA DEL ECUADOR\\nwww.funcionjudicial.gob...</td>\n",
       "    </tr>\n",
       "    <tr>\n",
       "      <th>18</th>\n",
       "      <td>REPÚBLICA DEL ECUADOR\\nwww.funcionjudicial.gob...</td>\n",
       "    </tr>\n",
       "    <tr>\n",
       "      <th>19</th>\n",
       "      <td>REPÚBLICA DEL ECUADOR\\nwww.funcionjudicial.gob...</td>\n",
       "    </tr>\n",
       "    <tr>\n",
       "      <th>20</th>\n",
       "      <td>REPÚBLICA DEL ECUADOR\\nwww.funcionjudicial.gob...</td>\n",
       "    </tr>\n",
       "    <tr>\n",
       "      <th>21</th>\n",
       "      <td>REPÚBLICA DEL ECUADOR\\nwww.funcionjudicial.gob...</td>\n",
       "    </tr>\n",
       "    <tr>\n",
       "      <th>22</th>\n",
       "      <td>REPÚBLICA DEL ECUADOR\\nwww.funcionjudicial.gob...</td>\n",
       "    </tr>\n",
       "    <tr>\n",
       "      <th>23</th>\n",
       "      <td>REPÚBLICA DEL ECUADOR\\nwww.funcionjudicial.gob...</td>\n",
       "    </tr>\n",
       "  </tbody>\n",
       "</table>\n",
       "</div>"
      ],
      "text/plain": [
       "                                             document\n",
       "0   REPÚBLICA DEL ECUADOR\\nwww.funcionjudicial.gob...\n",
       "1   REPÚBLICA DEL ECUADOR\\nwww.funcionjudicial.gob...\n",
       "2   REPÚBLICA DEL ECUADOR\\nwww.funcionjudicial.gob...\n",
       "3   REPÚBLICA DEL ECUADOR\\nwww.funcionjudicial.gob...\n",
       "4   REPÚBLICA DEL ECUADOR\\nwww.funcionjudicial.gob...\n",
       "5   REPÚBLICA DEL ECUADOR\\nwww.funcionjudicial.gob...\n",
       "6   REPÚBLICA DEL ECUADOR\\nwww.funcionjudicial.gob...\n",
       "7   REPÚBLICA DEL ECUADOR\\nwww.funcionjudicial.gob...\n",
       "8   REPÚBLICA DEL ECUADOR\\nwww.funcionjudicial.gob...\n",
       "9   REPÚBLICA DEL ECUADOR\\nwww.funcionjudicial.gob...\n",
       "10  REPÚBLICA DEL ECUADOR\\nwww.funcionjudicial.gob...\n",
       "11  REPÚBLICA DEL ECUADOR\\nwww.funcionjudicial.gob...\n",
       "12  REPÚBLICA DEL ECUADOR\\nwww.funcionjudicial.gob...\n",
       "13  REPÚBLICA DEL ECUADOR\\nwww.funcionjudicial.gob...\n",
       "14  REPÚBLICA DEL ECUADOR\\nwww.funcionjudicial.gob...\n",
       "15  REPÚBLICA DEL ECUADOR\\nwww.funcionjudicial.gob...\n",
       "16  REPÚBLICA DEL ECUADOR\\nwww.funcionjudicial.gob...\n",
       "17  REPÚBLICA DEL ECUADOR\\nwww.funcionjudicial.gob...\n",
       "18  REPÚBLICA DEL ECUADOR\\nwww.funcionjudicial.gob...\n",
       "19  REPÚBLICA DEL ECUADOR\\nwww.funcionjudicial.gob...\n",
       "20  REPÚBLICA DEL ECUADOR\\nwww.funcionjudicial.gob...\n",
       "21  REPÚBLICA DEL ECUADOR\\nwww.funcionjudicial.gob...\n",
       "22  REPÚBLICA DEL ECUADOR\\nwww.funcionjudicial.gob...\n",
       "23  REPÚBLICA DEL ECUADOR\\nwww.funcionjudicial.gob..."
      ]
     },
     "execution_count": 1,
     "metadata": {},
     "output_type": "execute_result"
    }
   ],
   "source": [
    "import fitz  # instalar pip install PyMuPDF\n",
    "import pandas as pd\n",
    "\n",
    "# Lista de rutas a los archivos PDF\n",
    "file_paths = [\n",
    "    'data/train/file0.pdf',\n",
    "    'data/train/file1.pdf',\n",
    "    'data/train/file2.pdf',    \n",
    "    'data/train/file3.pdf', \n",
    "    'data/train/file5.pdf',\n",
    "    'data/train/file6.pdf',    \n",
    "    'data/train/file7.pdf',    \n",
    "    'data/train/file8.pdf',\n",
    "    'data/train/file9.pdf',\n",
    "    'data/train/file10.pdf',\n",
    "    'data/train/file11.pdf',    \n",
    "    'data/train/file12.pdf',    \n",
    "    'data/train/file13.pdf',\n",
    "    'data/train/file14.pdf',\n",
    "    'data/train/file15.pdf',\n",
    "    'data/train/file16.pdf',    \n",
    "    'data/train/file17.pdf',  \n",
    "    'data/train/file18.pdf', \n",
    "    'data/train/file19.pdf',\n",
    "    'data/train/file20.pdf',\n",
    "    'data/train/file21.pdf',\n",
    "    'data/train/file22.pdf',\n",
    "    'data/train/file25.pdf', \n",
    "    'data/train/file26.pdf',\n",
    "    # Agregar aquí las rutas de los 29 documentos\n",
    "]\n",
    "\n",
    "# Lista para almacenar el texto de cada documento\n",
    "documents = []\n",
    "\n",
    "# Función para leer un archivo PDF y extraer su texto\n",
    "def read_pdf(file_path):\n",
    "    document = fitz.open(file_path)\n",
    "    text = \"\"\n",
    "    for page_num in range(len(document)):\n",
    "        page = document.load_page(page_num)\n",
    "        text += page.get_text()\n",
    "    return text\n",
    "\n",
    "# Leer cada archivo PDF y agregar el texto a la lista\n",
    "for path in file_paths:\n",
    "    text = read_pdf(path)\n",
    "    documents.append(text)\n",
    "\n",
    "# Crear un DataFrame a partir de la lista de textos\n",
    "df = pd.DataFrame({'document': documents})\n",
    "\n",
    "df  # Mostrar los primeros registros del DataFrame"
   ]
  },
  {
   "cell_type": "code",
   "execution_count": 2,
   "id": "bf49aa4d-dee0-4d17-a5ec-f431fcccebaf",
   "metadata": {},
   "outputs": [
    {
     "name": "stderr",
     "output_type": "stream",
     "text": [
      "[nltk_data] Downloading package stopwords to\n",
      "[nltk_data]     C:\\Users\\mdjqp\\AppData\\Roaming\\nltk_data...\n",
      "[nltk_data]   Package stopwords is already up-to-date!\n",
      "[nltk_data] Downloading package wordnet to\n",
      "[nltk_data]     C:\\Users\\mdjqp\\AppData\\Roaming\\nltk_data...\n",
      "[nltk_data]   Package wordnet is already up-to-date!\n"
     ]
    }
   ],
   "source": [
    "import pandas as pd\n",
    "import re\n",
    "import nltk\n",
    "from nltk.corpus import stopwords\n",
    "from nltk.stem import WordNetLemmatizer\n",
    "\n",
    "nltk.download('stopwords')\n",
    "nltk.download('wordnet')\n",
    "\n",
    "def preprocess_text(text):\n",
    "    # Eliminar caracteres especiales y números\n",
    "    text = re.sub(r'\\W', ' ', text)\n",
    "    text = re.sub(r'\\d', ' ', text)\n",
    "    \n",
    "    # Convertir a minúsculas\n",
    "    text = text.lower()\n",
    "    \n",
    "    # Eliminar stop words\n",
    "    stop_words = set(stopwords.words('spanish'))\n",
    "    words = text.split()\n",
    "    words = [word for word in words if word not in stop_words]\n",
    "    \n",
    "    # Lemmatización\n",
    "    lemmatizer = WordNetLemmatizer()\n",
    "    words = [lemmatizer.lemmatize(word) for word in words]\n",
    "    \n",
    "    return ' '.join(words)\n",
    "\n",
    "# Aplicar preprocesamiento a cada documento\n",
    "documents = [preprocess_text(doc) for doc in df['document']]\n"
   ]
  },
  {
   "cell_type": "code",
   "execution_count": 3,
   "id": "3ad7338a-46c2-4c2d-9722-1e807f312079",
   "metadata": {},
   "outputs": [
    {
     "name": "stdout",
     "output_type": "stream",
     "text": [
      "                                             document culpability\n",
      "0   república ecuador www funcionjudicial gob ec u...    inocente\n",
      "1   república ecuador www funcionjudicial gob ec u...    culpable\n",
      "2   república ecuador www funcionjudicial gob ec u...    culpable\n",
      "3   república ecuador www funcionjudicial gob ec s...    culpable\n",
      "4   república ecuador www funcionjudicial gob ec u...    inocente\n",
      "5   república ecuador www funcionjudicial gob ec u...    inocente\n",
      "6   república ecuador www funcionjudicial gob ec s...    inocente\n",
      "7   república ecuador www funcionjudicial gob ec u...    culpable\n",
      "8   república ecuador www funcionjudicial gob ec u...    inocente\n",
      "9   república ecuador www funcionjudicial gob ec u...    culpable\n",
      "10  república ecuador www funcionjudicial gob ec u...    culpable\n",
      "11  república ecuador www funcionjudicial gob ec u...    inocente\n",
      "12  república ecuador www funcionjudicial gob ec u...    inocente\n",
      "13  república ecuador www funcionjudicial gob ec u...    culpable\n",
      "14  república ecuador www funcionjudicial gob ec u...    inocente\n",
      "15  república ecuador www funcionjudicial gob ec u...    culpable\n",
      "16  república ecuador www funcionjudicial gob ec u...    culpable\n",
      "17  república ecuador www funcionjudicial gob ec u...    culpable\n",
      "18  república ecuador www funcionjudicial gob ec u...    inocente\n",
      "19  república ecuador www funcionjudicial gob ec u...    inocente\n",
      "20  república ecuador www funcionjudicial gob ec u...    inocente\n",
      "21  república ecuador www funcionjudicial gob ec u...    culpable\n",
      "22  república ecuador www funcionjudicial gob ec t...    culpable\n",
      "23  república ecuador www funcionjudicial gob ec u...    culpable\n"
     ]
    }
   ],
   "source": [
    "# Lista de culpabilidad\n",
    "culpability = [\n",
    "    'inocente','culpable','culpable','culpable', 'inocente', 'inocente', \n",
    "    'inocente', 'culpable', 'inocente', 'culpable', 'culpable', 'inocente', \n",
    "    'inocente', 'culpable', 'inocente', 'culpable', 'culpable',  'culpable', \n",
    "    'inocente', 'inocente', 'inocente', 'culpable', 'culpable', 'culpable',\n",
    "]\n",
    "\n",
    "# Crea un DataFrame de Pandas\n",
    "df_final = pd.DataFrame({'document': documents, 'culpability': culpability})\n",
    "\n",
    "print(df_final)"
   ]
  },
  {
   "cell_type": "code",
   "execution_count": 4,
   "id": "922159c5-e084-4158-9e97-fef70408dfb2",
   "metadata": {},
   "outputs": [
    {
     "name": "stdout",
     "output_type": "stream",
     "text": [
      "Forma de la matriz X: (24, 1000)\n"
     ]
    }
   ],
   "source": [
    "from sklearn.feature_extraction.text import TfidfVectorizer\n",
    "# Realiza TF-IDF\n",
    "vectorizer = TfidfVectorizer(max_features=1000)\n",
    "X = vectorizer.fit_transform(df_final['document']).toarray()\n",
    "print(\"Forma de la matriz X:\", X.shape) # Imprime la forma de la matriz X"
   ]
  },
  {
   "cell_type": "code",
   "execution_count": 5,
   "id": "81c3feb3-64dd-4fa2-a70e-2ff177113c6e",
   "metadata": {},
   "outputs": [
    {
     "data": {
      "text/plain": [
       "array([[0.        , 0.03716905, 0.        , ..., 0.        , 0.        ,\n",
       "        0.02570132],\n",
       "       [0.02639851, 0.00622971, 0.        , ..., 0.        , 0.00204671,\n",
       "        0.00215383],\n",
       "       [0.00296229, 0.03320545, 0.        , ..., 0.07114873, 0.        ,\n",
       "        0.        ],\n",
       "       ...,\n",
       "       [0.09061892, 0.00084861, 0.02227396, ..., 0.        , 0.00780644,\n",
       "        0.00821503],\n",
       "       [0.09550714, 0.02012364, 0.        , ..., 0.        , 0.        ,\n",
       "        0.        ],\n",
       "       [0.03353273, 0.01978324, 0.        , ..., 0.        , 0.        ,\n",
       "        0.        ]])"
      ]
     },
     "execution_count": 5,
     "metadata": {},
     "output_type": "execute_result"
    }
   ],
   "source": [
    "X"
   ]
  },
  {
   "cell_type": "code",
   "execution_count": 6,
   "id": "592500bd-5244-4507-b7e3-d2dabeeb8793",
   "metadata": {},
   "outputs": [
    {
     "name": "stdout",
     "output_type": "stream",
     "text": [
      "Eficiencia: 0.7916666666666666\n"
     ]
    }
   ],
   "source": [
    "from sklearn.feature_extraction.text import TfidfVectorizer\n",
    "from sklearn.neighbors import KNeighborsClassifier\n",
    "from sklearn.pipeline import Pipeline\n",
    "from sklearn.metrics import classification_report, accuracy_score\n",
    "\n",
    "# Dividir los datos en características (X) y etiquetas (y)\n",
    "X_train = df_final['document']  # Suponiendo que 'document' contiene el texto de los documentos\n",
    "y_train = df_final['culpability']  # Suponiendo que 'culpability' contiene las etiquetas de clase\n",
    "X_test = df_final['document']\n",
    "\n",
    "# Definir el clasificador KNN\n",
    "knn_classifier = KNeighborsClassifier(n_neighbors=5, metric='cosine')\n",
    "\n",
    "# Crear un pipeline con el vectorizador y el clasificador\n",
    "pipeline = Pipeline([\n",
    "    ('tfidf', vectorizer),\n",
    "    ('knn', knn_classifier)\n",
    "])\n",
    "\n",
    "# Entrenar el modelo\n",
    "pipeline.fit(X_train, y_train)\n",
    "\n",
    "# Predecir las etiquetas de clase para los datos de prueba\n",
    "y_pred = pipeline.predict(X_test)\n",
    "print(\"Eficiencia:\", accuracy_score(y_train, y_pred))\n"
   ]
  },
  {
   "cell_type": "code",
   "execution_count": 8,
   "id": "83833d76-bc68-4a6f-bc0e-8d6f9cecdfbf",
   "metadata": {},
   "outputs": [
    {
     "data": {
      "image/png": "[encoded data removed]",
      "text/plain": [
       "<Figure size 1000x700 with 1 Axes>"
      ]
     },
     "metadata": {},
     "output_type": "display_data"
    }
   ],
   "source": [
    "from sklearn.cluster import KMeans\n",
    "import scipy.cluster.hierarchy as sch\n",
    "import matplotlib.pyplot as plt\n",
    "\n",
    "# KMeans Clustering\n",
    "kmeans = KMeans(2, random_state=42, n_init=10)\n",
    "kmeans.fit(X)\n",
    "clusters = kmeans.labels_\n",
    "\n",
    "# Dendrograma para DHC\n",
    "plt.figure(figsize=(10, 7))\n",
    "dendrogram = sch.dendrogram(sch.linkage(X, method='ward'))\n",
    "plt.title('Dendrograma')\n",
    "plt.xlabel('Documentos')\n",
    "plt.ylabel('Distancia Euclidiana')\n",
    "plt.show()\n"
   ]
  },
  {
   "cell_type": "code",
   "execution_count": 9,
   "id": "0c5d6098-35dc-4bd0-8e1d-3d6ecc7ee1df",
   "metadata": {},
   "outputs": [
    {
     "data": {
      "image/png": "[encoded data removed]",
      "text/plain": [
       "<Figure size 1000x700 with 1 Axes>"
      ]
     },
     "metadata": {},
     "output_type": "display_data"
    }
   ],
   "source": [
    "from scipy.cluster.hierarchy import dendrogram, linkage, fcluster\n",
    "import matplotlib.pyplot as plt\n",
    "import seaborn as sns\n",
    "\n",
    "# Clustering jerárquico aglomerativo (DHC)\n",
    "Z = linkage(X, 'ward')\n",
    "\n",
    "# Dendrograma para determinar el número de clusters\n",
    "plt.figure(figsize=(10, 7))\n",
    "dendrogram(Z, truncate_mode='level', p=3)\n",
    "plt.title('Dendrograma')\n",
    "plt.xlabel('Índice del documento')\n",
    "plt.ylabel('Distancia')\n",
    "plt.show()"
   ]
  },
  {
   "cell_type": "code",
   "execution_count": 10,
   "id": "9e716c6a-525a-4fba-88a2-27405b401dc4",
   "metadata": {},
   "outputs": [
    {
     "name": "stdout",
     "output_type": "stream",
     "text": [
      "                                             document  cluster\n",
      "0   REPÚBLICA DEL ECUADOR\\nwww.funcionjudicial.gob...        1\n",
      "1   REPÚBLICA DEL ECUADOR\\nwww.funcionjudicial.gob...        2\n",
      "2   REPÚBLICA DEL ECUADOR\\nwww.funcionjudicial.gob...        2\n",
      "3   REPÚBLICA DEL ECUADOR\\nwww.funcionjudicial.gob...        2\n",
      "4   REPÚBLICA DEL ECUADOR\\nwww.funcionjudicial.gob...        2\n",
      "5   REPÚBLICA DEL ECUADOR\\nwww.funcionjudicial.gob...        1\n",
      "6   REPÚBLICA DEL ECUADOR\\nwww.funcionjudicial.gob...        2\n",
      "7   REPÚBLICA DEL ECUADOR\\nwww.funcionjudicial.gob...        1\n",
      "8   REPÚBLICA DEL ECUADOR\\nwww.funcionjudicial.gob...        1\n",
      "9   REPÚBLICA DEL ECUADOR\\nwww.funcionjudicial.gob...        1\n",
      "10  REPÚBLICA DEL ECUADOR\\nwww.funcionjudicial.gob...        2\n",
      "11  REPÚBLICA DEL ECUADOR\\nwww.funcionjudicial.gob...        1\n",
      "12  REPÚBLICA DEL ECUADOR\\nwww.funcionjudicial.gob...        1\n",
      "13  REPÚBLICA DEL ECUADOR\\nwww.funcionjudicial.gob...        1\n",
      "14  REPÚBLICA DEL ECUADOR\\nwww.funcionjudicial.gob...        1\n"
     ]
    }
   ],
   "source": [
    "# Determinar el número óptimo de clusters\n",
    "optimal_clusters = 2  # Este número debe ser determinado a partir del dendrograma\n",
    "\n",
    "# Asignar los clusters a los documentos\n",
    "df['cluster'] = fcluster(Z, optimal_clusters, criterion='maxclust')\n",
    "\n",
    "# Mostrar los primeros registros del DataFrame con la asignación de clusters\n",
    "print(df.head(15))\n"
   ]
  },
  {
   "cell_type": "code",
   "execution_count": 11,
   "id": "87446c87-ad6a-4bdc-a595-b89c225eac43",
   "metadata": {},
   "outputs": [
    {
     "data": {
      "image/png": "[encoded data removed]",
      "text/plain": [
       "<Figure size 1000x500 with 1 Axes>"
      ]
     },
     "metadata": {},
     "output_type": "display_data"
    }
   ],
   "source": [
    "# Visualización de los clusters\n",
    "plt.figure(figsize=(10, 5))\n",
    "sns.scatterplot(x=df.index, y=df['cluster'], hue=df['cluster'], palette='viridis')\n",
    "plt.title('Distribución de los Clusters')\n",
    "plt.xlabel('Documentos')\n",
    "plt.ylabel('Cluster')\n",
    "plt.show()"
   ]
  },
  {
   "cell_type": "code",
   "execution_count": 12,
   "id": "f28e944a-32cb-4f6e-a943-a8b524dbba9c",
   "metadata": {},
   "outputs": [
    {
     "name": "stdout",
     "output_type": "stream",
     "text": [
      "Matriz de Confusión:\n",
      "[[0 9 2]\n",
      " [0 7 6]\n",
      " [0 0 0]]\n",
      "\n",
      "Informe de Clasificación:\n",
      "              precision    recall  f1-score   support\n",
      "\n",
      "   Cluster 0       0.00      0.00      0.00        11\n",
      "   Cluster 1       0.44      0.54      0.48        13\n",
      "   Cluster 2       0.00      0.00      0.00         0\n",
      "   Cluster 3       0.00      0.00      0.00         0\n",
      "\n",
      "   micro avg       0.29      0.29      0.29        24\n",
      "   macro avg       0.11      0.13      0.12        24\n",
      "weighted avg       0.24      0.29      0.26        24\n",
      "\n",
      "\n",
      "Precisión del Clustering: 0.29\n"
     ]
    },
    {
     "name": "stderr",
     "output_type": "stream",
     "text": [
      "C:\\Users\\mdjqp\\AppData\\Roaming\\Python\\Python311\\site-packages\\sklearn\\metrics\\_classification.py:1471: UndefinedMetricWarning: Precision and F-score are ill-defined and being set to 0.0 in labels with no predicted samples. Use `zero_division` parameter to control this behavior.\n",
      "  _warn_prf(average, modifier, msg_start, len(result))\n",
      "C:\\Users\\mdjqp\\AppData\\Roaming\\Python\\Python311\\site-packages\\sklearn\\metrics\\_classification.py:1471: UndefinedMetricWarning: Recall and F-score are ill-defined and being set to 0.0 in labels with no true samples. Use `zero_division` parameter to control this behavior.\n",
      "  _warn_prf(average, modifier, msg_start, len(result))\n",
      "C:\\Users\\mdjqp\\AppData\\Roaming\\Python\\Python311\\site-packages\\sklearn\\metrics\\_classification.py:1471: UndefinedMetricWarning: Precision and F-score are ill-defined and being set to 0.0 in labels with no predicted samples. Use `zero_division` parameter to control this behavior.\n",
      "  _warn_prf(average, modifier, msg_start, len(result))\n",
      "C:\\Users\\mdjqp\\AppData\\Roaming\\Python\\Python311\\site-packages\\sklearn\\metrics\\_classification.py:1471: UndefinedMetricWarning: Recall and F-score are ill-defined and being set to 0.0 in labels with no true samples. Use `zero_division` parameter to control this behavior.\n",
      "  _warn_prf(average, modifier, msg_start, len(result))\n",
      "C:\\Users\\mdjqp\\AppData\\Roaming\\Python\\Python311\\site-packages\\sklearn\\metrics\\_classification.py:1471: UndefinedMetricWarning: Precision and F-score are ill-defined and being set to 0.0 in labels with no predicted samples. Use `zero_division` parameter to control this behavior.\n",
      "  _warn_prf(average, modifier, msg_start, len(result))\n",
      "C:\\Users\\mdjqp\\AppData\\Roaming\\Python\\Python311\\site-packages\\sklearn\\metrics\\_classification.py:1471: UndefinedMetricWarning: Recall and F-score are ill-defined and being set to 0.0 in labels with no true samples. Use `zero_division` parameter to control this behavior.\n",
      "  _warn_prf(average, modifier, msg_start, len(result))\n"
     ]
    }
   ],
   "source": [
    "from sklearn.metrics import accuracy_score, confusion_matrix, classification_report\n",
    "\n",
    "# Crear un diccionario para mapear las etiquetas de culpabilidad a valores numéricos\n",
    "label_map = {'inocente': 0, 'culpable': 1}\n",
    "\n",
    "# Mapear las etiquetas reales a valores numéricos (asumiendo que 'culpability' está en df_final)\n",
    "y_true = df_final['culpability'].map(label_map)\n",
    "\n",
    "# Calcular la precisión del clustering comparando los clusters obtenidos con las etiquetas reales\n",
    "accuracy = accuracy_score(y_true, df['cluster'])\n",
    "\n",
    "# Calcular la matriz de confusión para evaluar el rendimiento del clustering\n",
    "conf_matrix = confusion_matrix(y_true, df['cluster'])\n",
    "\n",
    "# Mostrar la matriz de confusión\n",
    "print(\"Matriz de Confusión:\")\n",
    "print(conf_matrix)\n",
    "\n",
    "# Calcular y mostrar el informe de clasificación\n",
    "print(\"\\nInforme de Clasificación:\")\n",
    "print(classification_report(y_true, df['cluster'], labels=[0, 1, 2, 3], target_names=['Cluster 0', 'Cluster 1', 'Cluster 2', 'Cluster 3']))\n",
    "\n",
    "\n",
    "# Mostrar la precisión del clustering\n",
    "print(f\"\\nPrecisión del Clustering: {accuracy:.2f}\")\n"
   ]
  },
  {
   "cell_type": "code",
   "execution_count": 13,
   "id": "f8a8ecc5-4bcc-4622-b4eb-25523f5d02fe",
   "metadata": {},
   "outputs": [
    {
     "name": "stdout",
     "output_type": "stream",
     "text": [
      "El documento de prueba pertenece al cluster: 1\n"
     ]
    }
   ],
   "source": [
    "# Leer y preprocesar el documento de prueba\n",
    "test_document_path = 'data/test/file29.pdf'  # Reemplaza 'ruta_del_documento.pdf' con la ruta de tu documento\n",
    "test_document_text = read_pdf(test_document_path)\n",
    "preprocessed_test_document = preprocess_text(test_document_text)\n",
    "\n",
    "# Convertir el documento de prueba en una representación TF-IDF\n",
    "test_document_vector = vectorizer.transform([preprocessed_test_document]).toarray()\n",
    "\n",
    "# Asignar el documento de prueba a un cluster usando el modelo entrenado\n",
    "test_cluster = kmeans.predict(test_document_vector)\n",
    "\n",
    "print(\"El documento de prueba pertenece al cluster:\", test_cluster[0])"
   ]
  },
  {
   "cell_type": "code",
   "execution_count": 15,
   "id": "5fb612ea-9d25-4123-a9ab-15faecf0ea03",
   "metadata": {},
   "outputs": [],
   "source": [
    "import pickle\n",
    "\n",
    "# Save the TF-IDF vectorizer\n",
    "with open('vectorizer.pkl', 'wb') as file:\n",
    "    pickle.dump(vectorizer, file)\n",
    "\n",
    "# Save the K-means model\n",
    "with open('kmeans_model.pkl', 'wb') as file:\n",
    "    pickle.dump(kmeans, file)\n"
   ]
  },
  {
   "cell_type": "code",
   "execution_count": null,
   "id": "259ae936-3cb5-4269-9974-edc8e76b944d",
   "metadata": {},
   "outputs": [],
   "source": []
  }
 ],
 "metadata": {
  "kernelspec": {
   "display_name": "Python 3 (ipykernel)",
   "language": "python",
   "name": "python3"
  },
  "language_info": {
   "codemirror_mode": {
    "name": "ipython",
    "version": 3
   },
   "file_extension": ".py",
   "mimetype": "text/x-python",
   "name": "python",
   "nbconvert_exporter": "python",
   "pygments_lexer": "ipython3",
   "version": "3.11.4"
  }
 },
 "nbformat": 4,
 "nbformat_minor": 5
}
