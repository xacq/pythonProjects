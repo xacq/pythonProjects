{
 "cells": [
  {
   "cell_type": "code",
   "execution_count": null,
   "id": "0379abd3-2a1a-45d7-b234-ef9e0c8d055c",
   "metadata": {},
   "outputs": [],
   "source": [
    "#pip install geopandas"
   ]
  },
  {
   "cell_type": "code",
   "execution_count": null,
   "id": "5a2f3677-487f-48f5-86ce-a250c040180f",
   "metadata": {},
   "outputs": [],
   "source": [
    "#pip install pandas"
   ]
  },
  {
   "cell_type": "code",
   "execution_count": 2,
   "id": "9e4d5a8e-22cf-4f51-bcb4-48b7df8cf2ed",
   "metadata": {},
   "outputs": [
    {
     "ename": "SyntaxError",
     "evalue": "invalid syntax (3451013398.py, line 2)",
     "output_type": "error",
     "traceback": [
      "\u001b[1;36m  Cell \u001b[1;32mIn[2], line 2\u001b[1;36m\u001b[0m\n\u001b[1;33m    pip install openpyxl\u001b[0m\n\u001b[1;37m        ^\u001b[0m\n\u001b[1;31mSyntaxError\u001b[0m\u001b[1;31m:\u001b[0m invalid syntax\n"
     ]
    }
   ],
   "source": [
    "#biblioteca de Python que permite leer, escribir y manipular archivos de Excel (xlsx/xlsm/xltx/xltm).\n",
    "#pip install openpyxl"
   ]
  },
  {
   "cell_type": "code",
   "execution_count": null,
   "id": "bba97aeb-5176-4d23-9805-eb2d1a44906e",
   "metadata": {},
   "outputs": [],
   "source": [
    "#CADA VEZ QUE INSTALES UNA LIBRERIA DEBES REINICIA EL KERNEL DE JUPYTER VAS AL MENU -KERNEL- Y DAS CLICK EN -RESTART KERNEL-"
   ]
  },
  {
   "cell_type": "code",
   "execution_count": 16,
   "id": "cd042ba1-66bf-4d0f-b6d4-1b8a6deb75a6",
   "metadata": {},
   "outputs": [],
   "source": [
    "import geopandas as gpd\n",
    "import pandas as pd\n"
   ]
  },
  {
   "cell_type": "code",
   "execution_count": 17,
   "id": "8d469484-3365-41fc-ac12-cad7c1ecf7df",
   "metadata": {},
   "outputs": [],
   "source": [
    "archivo1 = \"Depositos_cu_RMM_SIAY.shp\"\n",
    "archivo2 = \"Operaciones_cu.shp\""
   ]
  },
  {
   "cell_type": "code",
   "execution_count": 18,
   "id": "84e4bded-4ed3-4ed9-a340-a70bbb6fa4f7",
   "metadata": {},
   "outputs": [],
   "source": [
    "# Lee el archivo CSV y crea un DataFrame\n",
    "operaciones_csv = pd.read_csv('Operaciones_cu.csv', sep=';', encoding='latin1')\n",
    "#operaciones_csv"
   ]
  },
  {
   "cell_type": "code",
   "execution_count": 19,
   "id": "98bc858c-56b0-4276-843b-830d31138334",
   "metadata": {
    "scrolled": true
   },
   "outputs": [],
   "source": [
    "#pd.set_option('display.max_rows', None)\n",
    "#pd.set_option('display.max_columns', None)\n",
    "depositos_shp = gpd.read_file(archivo1)\n",
    "#depositos_shp"
   ]
  },
  {
   "cell_type": "code",
   "execution_count": 20,
   "id": "e15d096a-8394-4643-a89e-5107937ddd1f",
   "metadata": {},
   "outputs": [],
   "source": [
    "#pd.set_option('display.max_rows', None)\n",
    "#pd.set_option('display.max_columns', None)\n",
    "operaciones_shp = gpd.read_file(archivo2)\n",
    "#operaciones_shp"
   ]
  },
  {
   "cell_type": "code",
   "execution_count": 21,
   "id": "44fc976e-9c7b-450b-984c-11194c054fb7",
   "metadata": {},
   "outputs": [
    {
     "name": "stdout",
     "output_type": "stream",
     "text": [
      "Empty GeoDataFrame\n",
      "Columns: [ID_DEPOSIT, NOMBRE, REGION, PROVINCIA, COMUNA, TIPO_REC, TAM_DEP, ACT_DEP, MOD_DEP, G_REC_RMM, MIN_MEN_1, MIN_MEN_2, MIN_MEN_3, MIN_GAN_1, MIN_GAN_2, MIN_GAN_3, MIN_ALT_1, MIN_ALT_2, MIN_ALT_3, TIP_ALT_1, TIP_ALT_2, LITO_1, LITO_2, S_M_AL_MAX, S_M_AL_MIN, AMB_FORM, AMB_GEO, ELEMENTO, Fecha_Act, PROYEC_GEO, LATITUD, LONGITUD, UTM_NORTE, UTM_ESTE, NOM_CARTA, geometry]\n",
      "Index: []\n",
      "\n",
      "[0 rows x 36 columns]\n"
     ]
    }
   ],
   "source": [
    "# Muestra solo las cabeceras data1  \"Depositos_cu_RMM_SIAY.shp\"\n",
    "print(depositos_shp.head(0))"
   ]
  },
  {
   "cell_type": "code",
   "execution_count": 22,
   "id": "20ccd63a-2e11-403f-b382-8cf165a91bb6",
   "metadata": {},
   "outputs": [
    {
     "name": "stdout",
     "output_type": "stream",
     "text": [
      "Empty GeoDataFrame\n",
      "Columns: [NOMBRE, OPERADOR, ETAPA, PAIS, REGION, COMUNA, ESTE_WGS, NORTE_WGS, TIPO_DEPOS, MINERALIZA, TAMAÑO_DE, AREA_Km2, EDAD_Ma, EDAD_GEOLO, ACT_HIDROT, CONTROL_ES, INTRUSIVO, UGM, Cu, Mo, Ag, Au, Fe, PRODUCCION, TIPO_PRODU, CANT_PROD_, CANT_PROD1, RECURSOS_C, RESERVAS_C, LEY_CU, LEY_MO, LEY_AU, MIN_MENA_1, MIN_MENA_2, F__MENA, F__PIRITA, F__Fe, MIN_GANGA_, MIN_GANGA1, F__GANGA, MIN_ALT, F__ALT, TIPO_ALT_1, TIPO_ALT_2, LITO_1, LITO_2, FUENTE_1, FUENTE_2, CONTACT_NO, CONTACT_MA, geometry]\n",
      "Index: []\n",
      "\n",
      "[0 rows x 51 columns]\n"
     ]
    }
   ],
   "source": [
    "print(operaciones_shp.head(0))"
   ]
  },
  {
   "cell_type": "code",
   "execution_count": 23,
   "id": "a50b3dd0-ff0b-496a-830f-292510bb8a3e",
   "metadata": {},
   "outputs": [
    {
     "name": "stdout",
     "output_type": "stream",
     "text": [
      "Empty DataFrame\n",
      "Columns: [NOMBRE, OPERADOR, ETAPA, PAIS, REGION, COMUNA, ESTE_WGS, NORTE_WGS, TIPO_DEPOSITO, MINERALIZACION_HOSPEDADA, TAMAÑO_DEP, AREA_Km2, EDAD_Ma, EDAD_GEOLOGICA, ACT_HIDROT_Ma, CONTROL_ESTRUCT, INTRUSIVO, UGM, Cu, Mo, Ag, Au, Fe, PRODUCCION, TIPO_PRODUC, CANT_PROD_M, CANT_PROD_A, RECURSOS_CU, RESERVAS_CU, LEY_CU, LEY_MO, LEY_AU, MIN_MENA_1, MIN_MENA_2, %_MENA, %_PIRITA, %_Fe, MIN_GANGA_1, MIN_GANGA_2, %_GANGA, MIN_ALT , %_ALT, TIPO_ALT_1, TIPO_ALT_2, LITO_1, LITO_2, FUENTE_1, FUENTE_2, CONTACT_NOMB, CONTACT_MAIL]\n",
      "Index: []\n",
      "\n",
      "[0 rows x 50 columns]\n"
     ]
    }
   ],
   "source": [
    "print(operaciones_csv.head(0))"
   ]
  },
  {
   "cell_type": "code",
   "execution_count": 24,
   "id": "c5d52bc2-17bb-4a4f-a83a-3568a5b00d83",
   "metadata": {},
   "outputs": [
    {
     "name": "stdout",
     "output_type": "stream",
     "text": [
      "         NOMBRE  OPERADOR ETAPA   PAIS       REGION        COMUNA  ESTE_WGS  \\\n",
      "15  Lomas Bayas  Glencore  Mina  Chile  Antofagasta  Sierra Gorda  447737.0   \n",
      "\n",
      "    NORTE_WGS  TIPO_DEPOSITO MINERALIZACION_HOSPEDADA  ...  \\\n",
      "15  7407125.0  Porfido Cu-Mo                Stockwork  ...   \n",
      "\n",
      "                                             MIN_ALT  %_ALT TIPO_ALT_1  \\\n",
      "15  Anhidrita, turmalina, sericita, yeso, cuarzo, ...   NaN   Potásica   \n",
      "\n",
      "    TIPO_ALT_2        LITO_1        LITO_2 FUENTE_1  FUENTE_2 CONTACT_NOMB  \\\n",
      "15  Sericítica  Granodiorita  Monzodiorita      NaN       NaN          NaN   \n",
      "\n",
      "   CONTACT_MAIL  \n",
      "15          NaN  \n",
      "\n",
      "[1 rows x 50 columns]\n"
     ]
    }
   ],
   "source": [
    "# Mostrar las filas encontradas segun el campo solicitado\n",
    "print(operaciones_csv[operaciones_csv['NOMBRE'] == 'Lomas Bayas'])"
   ]
  },
  {
   "cell_type": "code",
   "execution_count": 25,
   "id": "b5d9ca89-5b4b-40ba-bb4c-767c57e47530",
   "metadata": {},
   "outputs": [
    {
     "data": {
      "text/plain": [
       "['Pampa Camarones',\n",
       " 'Cerro Colorado',\n",
       " 'Sagasca',\n",
       " 'Quebrada Blanca',\n",
       " 'Collahuasi',\n",
       " 'El Abra',\n",
       " 'Radomiro Tomic',\n",
       " 'Chuquicamata',\n",
       " 'Ministro Hales',\n",
       " 'Quetena y cluster Toki',\n",
       " 'Spence',\n",
       " 'Sierra Gorda',\n",
       " 'El Encuentro',\n",
       " 'Esperanza',\n",
       " 'Faride',\n",
       " 'Lomas Bayas',\n",
       " 'Gabriela Mistral',\n",
       " 'Zaldivar',\n",
       " 'Altamira',\n",
       " 'Chimborazo',\n",
       " 'Escondida',\n",
       " 'Tuina',\n",
       " 'Caserones',\n",
       " 'Delirios',\n",
       " nan,\n",
       " nan,\n",
       " nan,\n",
       " nan,\n",
       " nan,\n",
       " nan,\n",
       " nan]"
      ]
     },
     "execution_count": 25,
     "metadata": {},
     "output_type": "execute_result"
    }
   ],
   "source": [
    "#muestra todas las ubicaciones existentes dentro de operaciones_csv\n",
    "nombres = operaciones_csv[\"NOMBRE\"].tolist()\n",
    "nombres"
   ]
  },
  {
   "cell_type": "code",
   "execution_count": 26,
   "id": "bebaae08-9a77-4244-805b-8c88ce783113",
   "metadata": {},
   "outputs": [],
   "source": [
    "#escriba ubicacion dentro de operaciones =_csv\n",
    "ubicacion = \"Lomas Bayas\""
   ]
  },
  {
   "cell_type": "code",
   "execution_count": 1,
   "id": "9c2ea448-dd93-485c-8adf-6489d127bf55",
   "metadata": {},
   "outputs": [],
   "source": [
    "#pip install openpyxl"
   ]
  },
  {
   "cell_type": "code",
   "execution_count": 27,
   "id": "96f22a4a-fedd-4e5b-ab1f-eefa19b396ae",
   "metadata": {},
   "outputs": [],
   "source": [
    "import openpyxl\n",
    "\n",
    "# Función para calcular similitud\n",
    "def calcular_similitud(fila, referencia, campos):\n",
    "    similitud = 0\n",
    "    for campo in campos:\n",
    "        if fila[campo] == referencia[campo]:\n",
    "            similitud += 1\n",
    "    return similitud / len(campos)\n",
    "\n",
    "\n",
    "# Definir operación de referencia (como ejemplo Lomas Bayas)\n",
    "ubicacion_csv = operaciones_csv[operaciones_csv[\"NOMBRE\"] == ubicacion]\n",
    "ubicacion_caracteristicas_operaciones = {\n",
    "    \"TIPO_DEPOS\": ubicacion_csv[\"TIPO_DEPOSITO\"].values[0],\n",
    "    \"MIN_MENA_1\": ubicacion_csv[\"MIN_MENA_1\"].values[0],\n",
    "    \"MIN_MENA_2\": ubicacion_csv[\"MIN_MENA_2\"].values[0],\n",
    "    \"MIN_GANGA_\": ubicacion_csv[\"MIN_GANGA_1\"].values[0],\n",
    "    \"MIN_GANGA1\": ubicacion_csv[\"MIN_GANGA_2\"].values[0],\n",
    "    \"LITO_1\": ubicacion_csv[\"LITO_1\"].values[0],\n",
    "}\n",
    "\n",
    "#Seleccion de campos para la comparativa\n",
    "campos_operaciones_shp = [\"TIPO_DEPOS\", \"MIN_MENA_1\", \"MIN_MENA_2\", \"MIN_GANGA_\", \"MIN_GANGA1\", \"LITO_1\"]  # Ajustar nombre de columna si es necesario\n",
    "# Cruce de información y cálculo de similitud\n",
    "operaciones_shp[\"SIMILITUD\"] = operaciones_shp.apply(lambda fila: calcular_similitud(fila, ubicacion_caracteristicas_operaciones, campos_operaciones_shp), axis=1)\n",
    "\n",
    "#Reiniciamos el array con los campos compatibles para el archivo depositos\n",
    "ubicacion_caracteristicas_depositos = {\n",
    "    \"MOD_DEP\": ubicacion_csv[\"TIPO_DEPOSITO\"].values[0],\n",
    "    \"MIN_MEN_1\": ubicacion_csv[\"MIN_MENA_1\"].values[0],\n",
    "    \"MIN_MEN_2\": ubicacion_csv[\"MIN_MENA_2\"].values[0],\n",
    "    \"MIN_GAN_1\": ubicacion_csv[\"MIN_GANGA_1\"].values[0],\n",
    "    \"MIN_GAN_2\": ubicacion_csv[\"MIN_GANGA_2\"].values[0],\n",
    "    \"LITO_1\": ubicacion_csv[\"LITO_1\"].values[0],\n",
    "}\n",
    "\n",
    "#Seleccion de campos para la comparativa\n",
    "campos_depositos_shp = [\"MOD_DEP\", \"MIN_MEN_1\", \"MIN_MEN_2\", \"MIN_GAN_1\", \"MIN_GAN_2\", \"LITO_1\"]\n",
    "# Cruce de información y cálculo de similitud\n",
    "depositos_shp[\"SIMILITUD\"] = depositos_shp.apply(lambda fila: calcular_similitud(fila, ubicacion_caracteristicas_depositos, campos_depositos_shp), axis=1)\n",
    "\n",
    "# Eliminar registros con similitud 0 en operaciones_shp\n",
    "operaciones_shp = operaciones_shp[operaciones_shp[\"SIMILITUD\"] > 0]\n",
    "\n",
    "# Eliminar registros con similitud 0 en depositos_shp\n",
    "depositos_shp = depositos_shp[depositos_shp[\"SIMILITUD\"] > 0]\n",
    "\n",
    "#Para personalizar los nombres de los archivos\n",
    "nombre_shp_operaciones = f\"Operaciones_cu_similitud_{ubicacion}.shp\"\n",
    "nombre_shp_depositos = f\"Depositos_cu_RMM_SIAY_similitud_{ubicacion}.shp\"\n",
    "\n",
    "# Guardar shapefiles con similitud\n",
    "operaciones_shp.to_file(nombre_shp_operaciones)\n",
    "depositos_shp.to_file(nombre_shp_depositos)\n",
    "\n",
    "# Exportar a Excel (opcional)\n",
    "# Exportar operaciones a Excel\n",
    "nombre_archivo1 = f\"Similitudes_Operaciones_{ubicacion}.xlsx\"\n",
    "operaciones_shp[[\"NOMBRE\", \"SIMILITUD\"]].to_excel(nombre_archivo1, index=False)\n",
    "\n",
    "# Exportar depósitos a Excel\n",
    "nombre_archivo2 = f\"Similitudes_Depositos_{ubicacion}.xlsx\"\n",
    "depositos_shp[[\"NOMBRE\", \"SIMILITUD\"]].to_excel(nombre_archivo2, index=False)\n"
   ]
  },
  {
   "cell_type": "code",
   "execution_count": null,
   "id": "c4b323c9-8e38-42f6-8164-399679558811",
   "metadata": {},
   "outputs": [],
   "source": []
  }
 ],
 "metadata": {
  "kernelspec": {
   "display_name": "Python 3 (ipykernel)",
   "language": "python",
   "name": "python3"
  },
  "language_info": {
   "codemirror_mode": {
    "name": "ipython",
    "version": 3
   },
   "file_extension": ".py",
   "mimetype": "text/x-python",
   "name": "python",
   "nbconvert_exporter": "python",
   "pygments_lexer": "ipython3",
   "version": "3.11.4"
  }
 },
 "nbformat": 4,
 "nbformat_minor": 5
}
